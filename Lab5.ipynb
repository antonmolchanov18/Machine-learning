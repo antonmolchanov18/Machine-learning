{
 "cells": [
  {
   "cell_type": "markdown",
   "metadata": {},
   "source": [
    "## Лабораторна робота. Логістична регресія"
   ]
  },
  {
   "cell_type": "markdown",
   "metadata": {},
   "source": [
    "## 1\n",
    "Розглянемо дані медичної страхової фірми. На основі характеристик пацієнтів `Members.csv` (вік, стать) та даних про отримання медичного обслуговування в попередньому році `Claims_Y1.csv` (медичний заклад, лікар, тип проблеми, кількість днів госпіталізації, дата та ін.) потрібно передбачити факт госпіталізації хоча б на 1 день наступного року `DaysInHospital_Y2.csv`.\n"
   ]
  },
  {
   "cell_type": "code",
   "execution_count": 78,
   "metadata": {},
   "outputs": [],
   "source": [
    "import pandas as pd\n",
    "\n",
    "from sklearn import *\n",
    "from sklearn import metrics, model_selection, linear_model\n",
    "\n",
    "%matplotlib inline\n",
    "import matplotlib.pyplot as plt"
   ]
  },
  {
   "cell_type": "markdown",
   "metadata": {},
   "source": [
    "Прочитайте дані, в якості параметру index_col використовуйте `MemberID`.\n",
    "\n",
    "* дані з таблиці 'DaysInHospital_Y2.csv' у змінну `days2`\n",
    "* дані з таблиці 'Members.csv' до змінної `m`\n",
    "* дані з таблиці 'Claims_Y1.csv' у змінну `claims`"
   ]
  },
  {
   "cell_type": "code",
   "execution_count": 79,
   "metadata": {},
   "outputs": [],
   "source": [
    "days2 = pd.read_csv('DaysInHospital_Y2.csv', index_col='MemberID')\n",
    "m = pd.read_csv('Members.csv', index_col='MemberID')\n",
    "claims = pd.read_csv('Claims_Y1.csv', index_col='MemberID')"
   ]
  },
  {
   "cell_type": "markdown",
   "metadata": {},
   "source": [
    "## 2\n",
    "Щоб анонімізувати дані організатор вказав приблизну інформацію про пацієнтів, наприклад, у стовпці вік зазначені вікові групи: '0-9', '10-19', '20-29', '30-39', '40-49', '50 -59', '60-69', '70-79', '80+'. Перетворимо рядкові ознаки на кількісні та замінимо пропущені значення:  AgeAtFirstClaim - значенням -1, Sex - N, LengthOfStay - 0.\n"
   ]
  },
  {
   "cell_type": "code",
   "execution_count": 80,
   "metadata": {},
   "outputs": [],
   "source": [
    "i = pd.notnull(m.AgeAtFirstClaim)\n",
    "m.loc[i, 'AgeAtFirstClaim'] = m.loc[i, 'AgeAtFirstClaim'].apply(lambda s: s.split('-')[0] if s != '80+' else '80')\n",
    "m.loc[i, 'AgeAtFirstClaim'] = m.loc[i, 'AgeAtFirstClaim'].apply(lambda s: int(s))\n",
    "\n",
    "m.AgeAtFirstClaim.fillna(-1, inplace=True)\n",
    "m.Sex.fillna('N', inplace=True)\n",
    "\n",
    "claims.LengthOfStay.fillna(0, inplace=True)\n",
    "claims.CharlsonIndex = claims.CharlsonIndex.map({'0': 0, '1-2': 1, '3-4': 3, '5+': 5})\n",
    "\n",
    "claims.LengthOfStay = claims.LengthOfStay.map({\n",
    "    0: 0, '1 day': 1, '2 days': 2, '3 days': 3, '4 days': 4, '5 days': 5, '6 days': 6, '1- 2 weeks': 10, '2- 4 weeks': 21,\n",
    "    '4- 8 weeks': 42, '26+ weeks': 182\n",
    "})"
   ]
  },
  {
   "cell_type": "markdown",
   "metadata": {},
   "source": [
    "## 3\n",
    "Сконструюємо ознаки по масиву випадків медичного обслуговування:\n",
    "* `f_Charlson` - максимальний індекс коморбідності Чальсона з усіх випадків для пацієнта (`CharlsonIndex` у таблиці `claims`)\n",
    "* `f_LengthOfStay` - сумарна кількість днів госпіталізації минулого року (`LengthOfStay` у таблиці `claims`)\n",
    "\n",
    "*Функції, які можуть стати в нагоді при розв'язанні: `.groupby(['MemberID']), .max(), .sum()`*"
   ]
  },
  {
   "cell_type": "code",
   "execution_count": 81,
   "metadata": {},
   "outputs": [],
   "source": [
    "f_Charlson = claims.groupby('MemberID')['CharlsonIndex'].max()\n",
    "\n",
    "f_LengthOfStay = claims.groupby('MemberID')['LengthOfStay'].sum()"
   ]
  },
  {
   "cell_type": "markdown",
   "metadata": {},
   "source": [
    "## 4\n",
    "\n",
    "Складемо матрицю об'єктів ознак зі стовпцями: `f_Charlson`, `f_LengthOfStay`, вік пацієнта, `ClaimsTruncated` (не виявилося випадків медичного обслуговування занадто багато):\n",
    "\n",
    "*Функції, які можуть стати в нагоді при вирішенні: `.join()`*\n"
   ]
  },
  {
   "cell_type": "code",
   "execution_count": 82,
   "metadata": {},
   "outputs": [
    {
     "name": "stdout",
     "output_type": "stream",
     "text": [
      "          ClaimsTruncated  DaysInHospital  CharlsonIndex  LengthOfStay  \\\n",
      "MemberID                                                                 \n",
      "98324177                0               0              0             0   \n",
      "33899367                1               1              0             0   \n",
      "5481382                 0               1              0             0   \n",
      "69908334                0               0              0             0   \n",
      "29951458                0               0              0             0   \n",
      "\n",
      "          AgeAtFirstClaim  pol_F  pol_M  pol_N  \n",
      "MemberID                                        \n",
      "98324177               30  False   True  False  \n",
      "33899367               80   True  False  False  \n",
      "5481382                20   True  False  False  \n",
      "69908334               60   True  False  False  \n",
      "29951458               40  False   True  False  \n"
     ]
    }
   ],
   "source": [
    "data = days2.join(f_Charlson).join(f_LengthOfStay).join(m[['AgeAtFirstClaim']])\n",
    "data['ClaimsTruncated'] = days2['ClaimsTruncated']\n",
    "data['DaysInHospital'] = (days2['DaysInHospital'] > 0).astype(int)\n",
    "\n",
    "m = pd.get_dummies(m, columns=['Sex'], prefix='pol')\n",
    "\n",
    "data = data.join(m[['pol_F', 'pol_M', 'pol_N']])\n",
    "\n",
    "print(data.head(5))"
   ]
  },
  {
   "cell_type": "markdown",
   "metadata": {},
   "source": [
    "## 5\n",
    "Складемо функцію, яка ділитиме вибірку на дві частини `dataTrain` та `dataTest`, буде навчати логістичну регресію на `dataTrain`, застосовувати до `dataTest`, будувати криву помилок і рахувати під нею площу:\n"
   ]
  },
  {
   "cell_type": "code",
   "execution_count": 83,
   "metadata": {},
   "outputs": [],
   "source": [
    "def calcAUC(data):\n",
    "    dataTrain, dataTest = model_selection.train_test_split(data, test_size=0.3, random_state=42)\n",
    "    \n",
    "    model = linear_model.LogisticRegression()\n",
    "    model.fit(dataTrain.drop(columns='DaysInHospital'), dataTrain['DaysInHospital'])\n",
    "    \n",
    "    predictionProb = model.predict_proba(dataTest.drop(columns='DaysInHospital'))\n",
    "    \n",
    "    fpr, tpr, _ = metrics.roc_curve(dataTest['DaysInHospital'], predictionProb[:, 1])\n",
    "    plt.figure()\n",
    "    plt.plot(fpr, tpr, color='darkorange', lw=2)\n",
    "    plt.plot([0, 1], [0, 1], color='navy', lw=2, linestyle='--')\n",
    "    plt.show()\n",
    "    \n",
    "    print(metrics.roc_auc_score(dataTest['DaysInHospital'], predictionProb[:, 1]))"
   ]
  },
  {
   "cell_type": "markdown",
   "metadata": {},
   "source": [
    "## 6\n",
    "Застосуємо цю функцію до `data`:"
   ]
  },
  {
   "cell_type": "code",
   "execution_count": 84,
   "metadata": {},
   "outputs": [
    {
     "data": {
      "image/png": "[encoded data removed]",
      "text/plain": [
       "<Figure size 640x480 with 1 Axes>"
      ]
     },
     "metadata": {},
     "output_type": "display_data"
    },
    {
     "name": "stdout",
     "output_type": "stream",
     "text": [
      "0.6636908195150393\n"
     ]
    }
   ],
   "source": [
    "calcAUC(data)"
   ]
  },
  {
   "cell_type": "markdown",
   "metadata": {},
   "source": [
    "## 7\n",
    "\n",
    "Логістична регресія приймає на вхід лише кількісні ознаки.\n",
    "\n",
    "Додамо до наших даних стать пацієнта, застосувавши one hot encoding (ознайомитеся з даним методом кодування, опишіть його недоліки та переваги):\n",
    "\n",
    "*Функції, які можуть стати в нагоді при розв'язанні: `pd.get_dummies(m.Sex, prefix='pol')`*\n",
    "\n"
   ]
  },
  {
   "cell_type": "code",
   "execution_count": 85,
   "metadata": {},
   "outputs": [
    {
     "name": "stdout",
     "output_type": "stream",
     "text": [
      "          ClaimsTruncated  DaysInHospital  pol_F  pol_M\n",
      "MemberID                                               \n",
      "98324177                0               0  False   True\n",
      "33899367                1               1   True  False\n",
      "5481382                 0               1   True  False\n",
      "69908334                0               0   True  False\n",
      "29951458                0               0  False   True\n"
     ]
    }
   ],
   "source": [
    "m = pd.read_csv('Members.csv')\n",
    "data = pd.read_csv('DaysInHospital_Y2.csv')\n",
    "claims = pd.read_csv('Claims_Y1.csv')\n",
    "\n",
    "m = pd.get_dummies(m, columns=['Sex'], prefix='pol')\n",
    "\n",
    "data = data.set_index('MemberID').join(m.set_index('MemberID')[['pol_F', 'pol_M']])\n",
    "\n",
    "print(data.head())"
   ]
  },
  {
   "cell_type": "markdown",
   "metadata": {},
   "source": [
    "## 8\n",
    "\n",
    "Застосуйте one hot encoding до вже існуючих в `data` ознак та скласти нові ознаки за масивом `claims`.\n",
    "\n"
   ]
  },
  {
   "cell_type": "code",
   "execution_count": 86,
   "metadata": {},
   "outputs": [],
   "source": [
    "data = pd.read_csv('DaysInHospital_Y2.csv')\n",
    "claims = pd.read_csv('Claims_Y1.csv')\n",
    "\n",
    "claims_counts = claims.groupby('MemberID').size().reset_index(name='TotalClaims')\n",
    "\n",
    "data = data.merge(claims_counts, on='MemberID', how='left')\n",
    "\n",
    "claims_one_hot = pd.get_dummies(claims[['MemberID', 'Specialty']], columns=['Specialty'])\n",
    "claims_specialty = claims_one_hot.groupby('MemberID').sum().reset_index()\n",
    "\n",
    "data = data.merge(claims_specialty, on='MemberID', how='left')\n"
   ]
  },
  {
   "cell_type": "markdown",
   "metadata": {},
   "source": [
    "Побудуйте матрицю об'єктів ознак, для якої логістична регресія працює з найкращою якістю"
   ]
  },
  {
   "cell_type": "code",
   "execution_count": 91,
   "metadata": {},
   "outputs": [
    {
     "name": "stdout",
     "output_type": "stream",
     "text": [
      "Score:  0.6464300674892223\n"
     ]
    },
    {
     "data": {
      "image/png": "[encoded data removed]",
      "text/plain": [
       "<Figure size 640x480 with 1 Axes>"
      ]
     },
     "metadata": {},
     "output_type": "display_data"
    }
   ],
   "source": [
    "from sklearn.model_selection import train_test_split\n",
    "from sklearn.linear_model import LogisticRegression\n",
    "from sklearn.preprocessing import StandardScaler\n",
    "from sklearn.metrics import roc_auc_score, roc_curve\n",
    "\n",
    "\n",
    "data.fillna(0, inplace=True)\n",
    "X = data.drop(columns=['DaysInHospital'])\n",
    "y = data['DaysInHospital']\n",
    "\n",
    "X_train, X_test, y_train, y_test = train_test_split(X, y, test_size=0.3, random_state=42)\n",
    "\n",
    "scaler = StandardScaler()\n",
    "X_train_scaled = scaler.fit_transform(X_train)\n",
    "X_test_scaled = scaler.transform(X_test)\n",
    "\n",
    "model = LogisticRegression()\n",
    "model.fit(X_train_scaled, y_train)\n",
    "\n",
    "predictionProb = model.predict_proba(X_test_scaled)\n",
    "auc_score = roc_auc_score(y_test, predictionProb[:, 1])\n",
    "print('Score: ', auc_score)\n",
    "\n",
    "fpr, tpr, _ = roc_curve(y_test, predictionProb[:, 1])\n",
    "plt.plot(fpr, tpr, color='darkorange', lw=2)\n",
    "plt.plot([0, 1], [0, 1], color='navy', lw=2, linestyle='--')\n",
    "plt.xlabel('False Rate')\n",
    "plt.ylabel('True Rate')\n",
    "plt.show()"
   ]
  },
  {
   "cell_type": "code",
   "execution_count": null,
   "metadata": {},
   "outputs": [],
   "source": []
  }
 ],
 "metadata": {
  "kernelspec": {
   "display_name": "Python 3 (ipykernel)",
   "language": "python",
   "name": "python3"
  },
  "language_info": {
   "codemirror_mode": {
    "name": "ipython",
    "version": 3
   },
   "file_extension": ".py",
   "mimetype": "text/x-python",
   "name": "python",
   "nbconvert_exporter": "python",
   "pygments_lexer": "ipython3",
   "version": "3.11.4"
  }
 },
 "nbformat": 4,
 "nbformat_minor": 4
}
